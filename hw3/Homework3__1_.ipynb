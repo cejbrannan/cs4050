{
 "cells": [
  {
   "cell_type": "markdown",
   "id": "c745b809-cf85-4dea-9f23-64a1815cf8bd",
   "metadata": {},
   "source": [
    "# Homework 3"
   ]
  },
  {
   "cell_type": "markdown",
   "id": "badf4749-5df5-428a-950f-de8443787506",
   "metadata": {},
   "source": [
    "### <span style='color:blue'>CS 4050 / 7050</span>"
   ]
  },
  {
   "cell_type": "markdown",
   "id": "b1642cdf-f00e-4c41-ad16-69a9f3e6f48a",
   "metadata": {},
   "source": [
    "## Greedy Algorithms \n",
    "\n",
    "### Part A\n",
    "\n",
    "Suppose you are given two sets $A$ and $B$, each containing $n$ positive integers. \n",
    "You can choose to reorder each set however you like. \n",
    "After reordering, let $a_i$ be the $i^{th}$ element of set $A$, \n",
    "and let $b_i$ be the $i^{th}$ element of set $B$. \n",
    "Your goal is to maximize the product   \n",
    "\n",
    "<span style='font-size:2em; color:blue'>$\\Pi_{i=1}^{n} {a_i}^{b_i}$</span>\n",
    "\n",
    "\n",
    "Fill in the cell below with an enumerated greedy algorithm.\n",
    "Ensure it renders properly when you export the notebook to PDF for grading."
   ]
  },
  {
   "cell_type": "markdown",
   "id": "74e9be91-5b12-46ea-ac8a-90726afcdfba",
   "metadata": {},
   "source": [
    "Double-click this cell and add your algorithm below.\n",
    "\n",
    "### MaxProduct(A,B)\n",
    " 1.  A= selectionSort(a)\n",
    " 2.  B= selectionSort(b)\n",
    " 3.  total = 0\n",
    " 4.  for(i from 0 to n)  \n",
    " 5.     total *= a[i]^(b[i])\n",
    " 6.  return total"
   ]
  },
  {
   "cell_type": "markdown",
   "id": "b36b3334-3f10-4ca6-bb9b-e7877cf76b8b",
   "metadata": {},
   "source": [
    "---"
   ]
  },
  {
   "cell_type": "markdown",
   "id": "5b3e9bf6-2ab7-40f4-be40-53a8dd2c902e",
   "metadata": {},
   "source": [
    "### Part B\n",
    "Prove that your algorithm finds the optimal maximum product."
   ]
  },
  {
   "cell_type": "markdown",
   "id": "37b976c8-86f0-459d-969f-286258809ebf",
   "metadata": {},
   "source": [
    "Double-click this cell and add your answer below.\n",
    "```   \n",
    "  By sorting both A and B in order from largest to smallest this ensures a maximum product because the largest numbers in A are set to the power of the largest numbers in B. For example, 2^32 is much smaller than 9^32, so largest numbers in A should be matched up with largest numbers in B for a maximum product. For any integer and exponet combination, the larger they both are the larger the result is. This could also be done by sorting both arrays from smallest to largest and would have the same effect.  \n",
    "  \n",
    "```  "
   ]
  },
  {
   "cell_type": "markdown",
   "id": "079bc965-375d-4cc5-b76a-783d05a7c65b",
   "metadata": {},
   "source": [
    "---"
   ]
  },
  {
   "cell_type": "markdown",
   "id": "0fff6a50-8da1-474e-b8f0-4ec97241270f",
   "metadata": {},
   "source": [
    "### Part C\n",
    "\n",
    "Consider a very large array of sorted numbers. \n",
    "Imagine that you have a query number that you must use to rank all the numbers in the sorted array based on distance to the query, $q$.\n",
    "\n",
    "That is, for each $Arr[i]$, you must measure $Dist[i] = |q - Arr[i]|$ and then _sort_($Dist$) and report top $k$ matches.\n",
    "In essence, the 1-dimensional version of the Programming/Analysis assignments.\n",
    "\n",
    "Write a greedy algorithm that will find the top $k$ in $T(n) = log_2(n) + 2k$\n"
   ]
  },
  {
   "cell_type": "markdown",
   "id": "38494a7b-e5d1-4f36-8bb6-f3deb5723036",
   "metadata": {},
   "source": [
    "Double-click this cell and add your answer below.\n",
    "```   \n",
    "binarysearch(Arr[i] for query q)\n",
    "while(total < k)\n",
    "  measure distance of left and right to i, store distances as L and R\n",
    "  if(l<r) add l \n",
    "    total ++\n",
    "    l = left of l\n",
    "  elseif(r<l) add r\n",
    "    total++ \n",
    "    r = right of r\n",
    "  else\n",
    "    add l and r\n",
    "    total +=2\n",
    "    l = left of l\n",
    "    r = right of r\n",
    "  \n",
    "```  "
   ]
  },
  {
   "cell_type": "markdown",
   "id": "eb313321-6324-48b3-96f7-2c3c69914e3c",
   "metadata": {},
   "source": [
    "---\n",
    "### Part D (Optional, no points to be lost or gained)\n",
    "\n",
    "Contemplate Programming/Analysis assignments 1 and 2.\n",
    "In PA1, we wrote algorithms that were brute force, and ran in approximately $T(n) = 13n + n log_2(n) + k$.\n",
    "\n",
    "Then, in PA2, we rewrote the solution to achieve (usually) $T(n) = 13n + k log_2(k) + k$.\n",
    "\n",
    "Can your algorithm above be extended into the 12-dimensional space of the PA assignments?\n",
    "\n",
    "Can you achieve a sub-linear time, e.g., T(n) strictly $ < O(N)$?\n"
   ]
  },
  {
   "cell_type": "markdown",
   "id": "413cc568-4d8f-487c-afe3-66b9042a735a",
   "metadata": {},
   "source": [
    "Double-click this cell and add your answer below.\n",
    "```   \n",
    "   \n",
    "  \n",
    "  \n",
    "```  "
   ]
  },
  {
   "cell_type": "markdown",
   "id": "3540a77c-1225-460f-96f3-45086d949a43",
   "metadata": {},
   "source": [
    "---\n",
    "## Minimum Spanning Trees\n",
    "\n",
    "### Part E\n",
    "\n",
    "Given a graph $G$ and a MST $T$, suppose that we decrease the weight of one of the edges not in $T$. \n",
    "\n",
    "Give an algorithm for finding the MST in the modified graph."
   ]
  },
  {
   "cell_type": "markdown",
   "id": "e29222bd-395c-43fd-8094-1b89e44c8413",
   "metadata": {},
   "source": [
    "Double-click this cell and add your answer below.\n",
    "```\n",
    "add edge with new weight to minimum spanning tree, creating a loop\n",
    "for edges in loop, find heaviest\n",
    "remove heaviest edge in loop\n",
    "  \n",
    "```  "
   ]
  },
  {
   "cell_type": "markdown",
   "id": "3c59186b-22a3-4088-8775-45367b4831c6",
   "metadata": {
    "tags": []
   },
   "source": [
    "---\n",
    "\n",
    "### Part F\n",
    "\n",
    "Given the graph below, list the MST based on Dijkstra's Algorithm and state total traversal cost from node $a$.\n",
    "\n",
    "`![WeightedGraph](https://web.dsa.missouri.edu/static/images/WeightedGraph_MST.png)`\n",
    "![WeightedGraph](WeightedGraph_MST.png)\n",
    "\n"
   ]
  },
  {
   "attachments": {},
   "cell_type": "markdown",
   "id": "8677841e-8805-42e9-bacb-094ccc4444a7",
   "metadata": {},
   "source": [
    "Double-click this cell and add your answer below.\n",
    "If you want to add an image, you can upload it to this folder after drawing and converting to JPG, GIF, PNG in another application.\n",
    "[See: How to Insert Embedded Image](https://stackoverflow.com/questions/10628262/inserting-image-into-ipython-notebook-markdown)\n",
    "```   \n",
    "a,b,f,c,e,d,g,h,i,k,j,m,q,y,w,n,x,z\n",
    "a-0, b-4, c-10, d-12, e-11, f-10, g-13, h-14, i-16, j-20, k-17, m-22, n-31, q-23, w-30, x-32, y-28, z-34\n",
    "shortest path from a-z: 34\n",
    "total weight of the path traveled: 86   \n",
    "  \n",
    "  \n",
    "```  "
   ]
  },
  {
   "cell_type": "markdown",
   "id": "5f4b5f54-04de-4b4f-b068-029f82229bf8",
   "metadata": {},
   "source": [
    "### The End"
   ]
  }
 ],
 "metadata": {
  "kernelspec": {
   "display_name": "Python 3 (ipykernel)",
   "language": "python",
   "name": "python3"
  },
  "language_info": {
   "codemirror_mode": {
    "name": "ipython",
    "version": 3
   },
   "file_extension": ".py",
   "mimetype": "text/x-python",
   "name": "python",
   "nbconvert_exporter": "python",
   "pygments_lexer": "ipython3",
   "version": "3.9.13"
  }
 },
 "nbformat": 4,
 "nbformat_minor": 5
}
